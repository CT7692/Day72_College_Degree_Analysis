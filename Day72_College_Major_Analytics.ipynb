{
  "nbformat": 4,
  "nbformat_minor": 0,
  "metadata": {
    "colab": {
      "provenance": []
    },
    "kernelspec": {
      "name": "python3",
      "display_name": "Python 3"
    },
    "language_info": {
      "name": "python"
    }
  },
  "cells": [
    {
      "cell_type": "markdown",
      "source": [
        "Showing a Clean Data Frame With No Empty Values With Emphasis on Mid-Career Median Salary"
      ],
      "metadata": {
        "id": "XUrTFKx3XJ6U"
      }
    },
    {
      "cell_type": "code",
      "execution_count": 34,
      "metadata": {
        "colab": {
          "base_uri": "https://localhost:8080/"
        },
        "id": "OcJQQdE773LW",
        "outputId": "36eb1819-4a22-4af0-9700-50e6346a9513"
      },
      "outputs": [
        {
          "output_type": "stream",
          "name": "stdout",
          "text": [
            "          Starting Median Salary  Mid-Career Median Salary  \\\n",
            "Group                                                        \n",
            "Business               44,633.33                 75,083.33   \n",
            "HASS                   37,186.36                 62,968.18   \n",
            "STEM                   53,862.50                 90,812.50   \n",
            "\n",
            "          Mid-Career 10th Percentile Salary  Mid-Career 90th Percentile Salary  \n",
            "Group                                                                           \n",
            "Business                          43,566.67                         147,525.00  \n",
            "HASS                              34,145.45                         129,363.64  \n",
            "STEM                              56,025.00                         157,625.00  \n"
          ]
        }
      ],
      "source": [
        "import pandas as pd\n",
        "pd.options.display.float_format = '{:,.2f}'.format\n",
        "\n",
        "df = pd.read_csv('salaries_by_college_major.csv')\n",
        "clean_df = df.dropna()\n",
        "\n",
        "mid_career_mean = clean_df.groupby('Group').mean('Mid-Career Median Salary')\n",
        "print(mid_career_mean)\n"
      ]
    },
    {
      "cell_type": "markdown",
      "source": [
        "Showing Shape of the Data Frame"
      ],
      "metadata": {
        "id": "qtsj601nW-us"
      }
    },
    {
      "cell_type": "code",
      "source": [
        "print(clean_df.shape)"
      ],
      "metadata": {
        "colab": {
          "base_uri": "https://localhost:8080/"
        },
        "id": "DCebS0MgWCAO",
        "outputId": "6061e7dd-e0f3-49a2-a4cb-fb5c847476b4"
      },
      "execution_count": 3,
      "outputs": [
        {
          "output_type": "stream",
          "name": "stdout",
          "text": [
            "(50, 6)\n"
          ]
        }
      ]
    },
    {
      "cell_type": "markdown",
      "source": [
        "Using the Head Method for the Data Frame"
      ],
      "metadata": {
        "id": "dwX04TrBWSD_"
      }
    },
    {
      "cell_type": "code",
      "source": [
        "print(clean_df.head())"
      ],
      "metadata": {
        "colab": {
          "base_uri": "https://localhost:8080/"
        },
        "id": "lNO6ejvTWHyJ",
        "outputId": "13f5bce9-af54-4bda-8674-e8807045976d"
      },
      "execution_count": 35,
      "outputs": [
        {
          "output_type": "stream",
          "name": "stdout",
          "text": [
            "     Undergraduate Major  Starting Median Salary  Mid-Career Median Salary  \\\n",
            "0             Accounting               46,000.00                 77,100.00   \n",
            "1  Aerospace Engineering               57,700.00                101,000.00   \n",
            "2            Agriculture               42,600.00                 71,900.00   \n",
            "3           Anthropology               36,800.00                 61,500.00   \n",
            "4           Architecture               41,600.00                 76,800.00   \n",
            "\n",
            "   Mid-Career 10th Percentile Salary  Mid-Career 90th Percentile Salary  \\\n",
            "0                          42,200.00                         152,000.00   \n",
            "1                          64,300.00                         161,000.00   \n",
            "2                          36,300.00                         150,000.00   \n",
            "3                          33,800.00                         138,000.00   \n",
            "4                          50,600.00                         136,000.00   \n",
            "\n",
            "      Group  \n",
            "0  Business  \n",
            "1      STEM  \n",
            "2  Business  \n",
            "3      HASS  \n",
            "4  Business  \n"
          ]
        }
      ]
    },
    {
      "cell_type": "markdown",
      "source": [
        "Using the Tail Method for the Data Frame"
      ],
      "metadata": {
        "id": "sYiNWFvAWxMv"
      }
    },
    {
      "cell_type": "code",
      "source": [
        "print(clean_df.tail())"
      ],
      "metadata": {
        "colab": {
          "base_uri": "https://localhost:8080/"
        },
        "id": "pmv7C0CSWL-S",
        "outputId": "1a228f44-265f-43ee-b92a-411cf04d23c0"
      },
      "execution_count": 5,
      "outputs": [
        {
          "output_type": "stream",
          "name": "stdout",
          "text": [
            "   Undergraduate Major  Starting Median Salary  Mid-Career Median Salary  \\\n",
            "45   Political Science                 40800.0                   78200.0   \n",
            "46          Psychology                 35900.0                   60400.0   \n",
            "47            Religion                 34100.0                   52000.0   \n",
            "48           Sociology                 36500.0                   58200.0   \n",
            "49             Spanish                 34000.0                   53100.0   \n",
            "\n",
            "    Mid-Career 10th Percentile Salary  Mid-Career 90th Percentile Salary Group  \n",
            "45                            41200.0                           168000.0  HASS  \n",
            "46                            31600.0                           127000.0  HASS  \n",
            "47                            29700.0                            96400.0  HASS  \n",
            "48                            30700.0                           118000.0  HASS  \n",
            "49                            31000.0                            96400.0  HASS  \n"
          ]
        }
      ]
    },
    {
      "cell_type": "markdown",
      "source": [
        "College Major Data Frame Descending Starting Median Salary"
      ],
      "metadata": {
        "id": "DMwrxmYqeffW"
      }
    },
    {
      "cell_type": "code",
      "source": [
        "print(clean_df[['Undergraduate Major', 'Starting Median Salary']].sort_values('Starting Median Salary', ascending=False))"
      ],
      "metadata": {
        "colab": {
          "base_uri": "https://localhost:8080/"
        },
        "id": "PZTXaelLcNZ_",
        "outputId": "1cc13d54-9ede-4b1f-92ba-ed615998645e"
      },
      "execution_count": 19,
      "outputs": [
        {
          "output_type": "stream",
          "name": "stdout",
          "text": [
            "                     Undergraduate Major  Starting Median Salary\n",
            "43                   Physician Assistant                 74300.0\n",
            "8                   Chemical Engineering                 63200.0\n",
            "12                  Computer Engineering                 61400.0\n",
            "19                Electrical Engineering                 60900.0\n",
            "38                Mechanical Engineering                 57900.0\n",
            "1                  Aerospace Engineering                 57700.0\n",
            "30                Industrial Engineering                 57700.0\n",
            "13                      Computer Science                 55900.0\n",
            "40                               Nursing                 54200.0\n",
            "10                     Civil Engineering                 53900.0\n",
            "14                          Construction                 53700.0\n",
            "44                               Physics                 50300.0\n",
            "17                             Economics                 50100.0\n",
            "35  Management Information Systems (MIS)                 49200.0\n",
            "31           Information Technology (IT)                 49100.0\n",
            "22                               Finance                 47900.0\n",
            "0                             Accounting                 46000.0\n",
            "37                                  Math                 45400.0\n",
            "25                               Geology                 43500.0\n",
            "7                    Business Management                 43000.0\n",
            "2                            Agriculture                 42600.0\n",
            "9                              Chemistry                 42600.0\n",
            "4                           Architecture                 41600.0\n",
            "24                             Geography                 41200.0\n",
            "33               International Relations                 40900.0\n",
            "45                     Political Science                 40800.0\n",
            "36                             Marketing                 40800.0\n",
            "42                            Philosophy                 39900.0\n",
            "41                             Nutrition                 39900.0\n",
            "28                               History                 39200.0\n",
            "23                              Forestry                 39100.0\n",
            "27            Health Care Administration                 38800.0\n",
            "6                                Biology                 38800.0\n",
            "11                        Communications                 38100.0\n",
            "20                               English                 38000.0\n",
            "21                                  Film                 37900.0\n",
            "29                 Hospitality & Tourism                 37800.0\n",
            "3                           Anthropology                 36800.0\n",
            "48                             Sociology                 36500.0\n",
            "32                       Interior Design                 36100.0\n",
            "46                            Psychology                 35900.0\n",
            "39                                 Music                 35900.0\n",
            "16                                 Drama                 35900.0\n",
            "5                            Art History                 35800.0\n",
            "26                        Graphic Design                 35700.0\n",
            "34                            Journalism                 35600.0\n",
            "15                      Criminal Justice                 35000.0\n",
            "18                             Education                 34900.0\n",
            "47                              Religion                 34100.0\n",
            "49                               Spanish                 34000.0\n"
          ]
        }
      ]
    },
    {
      "cell_type": "markdown",
      "source": [
        "Showing Data With Highest Difference from Mid-Career 90th Percentile and 10th Percentile"
      ],
      "metadata": {
        "id": "2JEg6yb9fIrB"
      }
    },
    {
      "cell_type": "code",
      "source": [
        "difference = clean_df['Mid-Career 90th Percentile Salary'] - clean_df['Mid-Career 10th Percentile Salary']\n",
        "clean_df.insert(loc=2, column='Spread', value=difference)\n",
        "clean_df"
      ],
      "metadata": {
        "colab": {
          "base_uri": "https://localhost:8080/"
        },
        "id": "NmDPOCTDd6lB",
        "outputId": "6b9abf27-3bd6-4fb5-fb65-20aeea2c4b6a"
      },
      "execution_count": 28,
      "outputs": [
        {
          "output_type": "stream",
          "name": "stdout",
          "text": [
            "                     Undergraduate Major  Starting Median Salary    Spread  \\\n",
            "0                             Accounting                 46000.0  109800.0   \n",
            "1                  Aerospace Engineering                 57700.0   96700.0   \n",
            "2                            Agriculture                 42600.0  113700.0   \n",
            "3                           Anthropology                 36800.0  104200.0   \n",
            "4                           Architecture                 41600.0   85400.0   \n",
            "5                            Art History                 35800.0   96200.0   \n",
            "6                                Biology                 38800.0   98100.0   \n",
            "7                    Business Management                 43000.0  108200.0   \n",
            "8                   Chemical Engineering                 63200.0  122100.0   \n",
            "9                              Chemistry                 42600.0  102700.0   \n",
            "10                     Civil Engineering                 53900.0   84600.0   \n",
            "11                        Communications                 38100.0  105500.0   \n",
            "12                  Computer Engineering                 61400.0   95900.0   \n",
            "13                      Computer Science                 55900.0   98000.0   \n",
            "14                          Construction                 53700.0  114700.0   \n",
            "15                      Criminal Justice                 35000.0   74800.0   \n",
            "16                                 Drama                 35900.0  116300.0   \n",
            "17                             Economics                 50100.0  159400.0   \n",
            "18                             Education                 34900.0   72700.0   \n",
            "19                Electrical Engineering                 60900.0   98700.0   \n",
            "20                               English                 38000.0   99600.0   \n",
            "21                                  Film                 37900.0  102100.0   \n",
            "22                               Finance                 47900.0  147800.0   \n",
            "23                              Forestry                 39100.0   70000.0   \n",
            "24                             Geography                 41200.0   92000.0   \n",
            "25                               Geology                 43500.0  111000.0   \n",
            "26                        Graphic Design                 35700.0   76000.0   \n",
            "27            Health Care Administration                 38800.0   66400.0   \n",
            "28                               History                 39200.0  112000.0   \n",
            "29                 Hospitality & Tourism                 37800.0   88500.0   \n",
            "30                Industrial Engineering                 57700.0  115900.0   \n",
            "31           Information Technology (IT)                 49100.0   84500.0   \n",
            "32                       Interior Design                 36100.0   71300.0   \n",
            "33               International Relations                 40900.0  118800.0   \n",
            "34                            Journalism                 35600.0  106600.0   \n",
            "35  Management Information Systems (MIS)                 49200.0  100700.0   \n",
            "36                             Marketing                 40800.0  132900.0   \n",
            "37                                  Math                 45400.0  137800.0   \n",
            "38                Mechanical Engineering                 57900.0   99300.0   \n",
            "39                                 Music                 35900.0  107300.0   \n",
            "40                               Nursing                 54200.0   50700.0   \n",
            "41                             Nutrition                 39900.0   65300.0   \n",
            "42                            Philosophy                 39900.0  132500.0   \n",
            "43                   Physician Assistant                 74300.0   57600.0   \n",
            "44                               Physics                 50300.0  122000.0   \n",
            "45                     Political Science                 40800.0  126800.0   \n",
            "46                            Psychology                 35900.0   95400.0   \n",
            "47                              Religion                 34100.0   66700.0   \n",
            "48                             Sociology                 36500.0   87300.0   \n",
            "49                               Spanish                 34000.0   65400.0   \n",
            "\n",
            "    Mid-Career Median Salary  Mid-Career 10th Percentile Salary  \\\n",
            "0                    77100.0                            42200.0   \n",
            "1                   101000.0                            64300.0   \n",
            "2                    71900.0                            36300.0   \n",
            "3                    61500.0                            33800.0   \n",
            "4                    76800.0                            50600.0   \n",
            "5                    64900.0                            28800.0   \n",
            "6                    64800.0                            36900.0   \n",
            "7                    72100.0                            38800.0   \n",
            "8                   107000.0                            71900.0   \n",
            "9                    79900.0                            45300.0   \n",
            "10                   90500.0                            63400.0   \n",
            "11                   70000.0                            37500.0   \n",
            "12                  105000.0                            66100.0   \n",
            "13                   95500.0                            56000.0   \n",
            "14                   88900.0                            56300.0   \n",
            "15                   56300.0                            32200.0   \n",
            "16                   56900.0                            36700.0   \n",
            "17                   98600.0                            50600.0   \n",
            "18                   52000.0                            29300.0   \n",
            "19                  103000.0                            69300.0   \n",
            "20                   64700.0                            33400.0   \n",
            "21                   68500.0                            33900.0   \n",
            "22                   88300.0                            47200.0   \n",
            "23                   62600.0                            41000.0   \n",
            "24                   65500.0                            40000.0   \n",
            "25                   79500.0                            45000.0   \n",
            "26                   59800.0                            36000.0   \n",
            "27                   60600.0                            34600.0   \n",
            "28                   71000.0                            37000.0   \n",
            "29                   57500.0                            35500.0   \n",
            "30                   94700.0                            57100.0   \n",
            "31                   74800.0                            44500.0   \n",
            "32                   53200.0                            35700.0   \n",
            "33                   80900.0                            38200.0   \n",
            "34                   66700.0                            38400.0   \n",
            "35                   82300.0                            45300.0   \n",
            "36                   79600.0                            42100.0   \n",
            "37                   92400.0                            45200.0   \n",
            "38                   93600.0                            63700.0   \n",
            "39                   55000.0                            26700.0   \n",
            "40                   67000.0                            47600.0   \n",
            "41                   55300.0                            33900.0   \n",
            "42                   81200.0                            35500.0   \n",
            "43                   91700.0                            66400.0   \n",
            "44                   97300.0                            56000.0   \n",
            "45                   78200.0                            41200.0   \n",
            "46                   60400.0                            31600.0   \n",
            "47                   52000.0                            29700.0   \n",
            "48                   58200.0                            30700.0   \n",
            "49                   53100.0                            31000.0   \n",
            "\n",
            "    Mid-Career 90th Percentile Salary     Group  \n",
            "0                            152000.0  Business  \n",
            "1                            161000.0      STEM  \n",
            "2                            150000.0  Business  \n",
            "3                            138000.0      HASS  \n",
            "4                            136000.0  Business  \n",
            "5                            125000.0      HASS  \n",
            "6                            135000.0      STEM  \n",
            "7                            147000.0  Business  \n",
            "8                            194000.0      STEM  \n",
            "9                            148000.0      STEM  \n",
            "10                           148000.0      STEM  \n",
            "11                           143000.0      HASS  \n",
            "12                           162000.0      STEM  \n",
            "13                           154000.0      STEM  \n",
            "14                           171000.0  Business  \n",
            "15                           107000.0      HASS  \n",
            "16                           153000.0      HASS  \n",
            "17                           210000.0  Business  \n",
            "18                           102000.0      HASS  \n",
            "19                           168000.0      STEM  \n",
            "20                           133000.0      HASS  \n",
            "21                           136000.0      HASS  \n",
            "22                           195000.0  Business  \n",
            "23                           111000.0  Business  \n",
            "24                           132000.0      HASS  \n",
            "25                           156000.0      STEM  \n",
            "26                           112000.0      HASS  \n",
            "27                           101000.0  Business  \n",
            "28                           149000.0      HASS  \n",
            "29                           124000.0  Business  \n",
            "30                           173000.0      STEM  \n",
            "31                           129000.0      STEM  \n",
            "32                           107000.0      HASS  \n",
            "33                           157000.0      HASS  \n",
            "34                           145000.0      HASS  \n",
            "35                           146000.0      STEM  \n",
            "36                           175000.0  Business  \n",
            "37                           183000.0      STEM  \n",
            "38                           163000.0      STEM  \n",
            "39                           134000.0      HASS  \n",
            "40                            98300.0  Business  \n",
            "41                            99200.0      HASS  \n",
            "42                           168000.0      HASS  \n",
            "43                           124000.0      STEM  \n",
            "44                           178000.0      STEM  \n",
            "45                           168000.0      HASS  \n",
            "46                           127000.0      HASS  \n",
            "47                            96400.0      HASS  \n",
            "48                           118000.0      HASS  \n",
            "49                            96400.0      HASS  \n"
          ]
        }
      ]
    },
    {
      "cell_type": "markdown",
      "source": [
        "Average Salary of College Degree By Group"
      ],
      "metadata": {
        "id": "gjb16yvGi3Vl"
      }
    },
    {
      "cell_type": "code",
      "source": [
        "groups = clean_df.groupby('Group').mean('Mid-Career Median Salary')\n",
        "groups"
      ],
      "metadata": {
        "colab": {
          "base_uri": "https://localhost:8080/"
        },
        "id": "a2OvR5PBgAOr",
        "outputId": "9b19806b-e056-483c-cb9b-7092f6c224cb"
      },
      "execution_count": 36,
      "outputs": [
        {
          "output_type": "stream",
          "name": "stdout",
          "text": [
            "          Starting Median Salary  Mid-Career Median Salary  \\\n",
            "Group                                                        \n",
            "Business               44,633.33                 75,083.33   \n",
            "HASS                   37,186.36                 62,968.18   \n",
            "STEM                   53,862.50                 90,812.50   \n",
            "\n",
            "          Mid-Career 10th Percentile Salary  Mid-Career 90th Percentile Salary  \n",
            "Group                                                                           \n",
            "Business                          43,566.67                         147,525.00  \n",
            "HASS                              34,145.45                         129,363.64  \n",
            "STEM                              56,025.00                         157,625.00  \n"
          ]
        }
      ]
    },
    {
      "cell_type": "code",
      "source": [],
      "metadata": {
        "id": "bJLNecAGjCMj"
      },
      "execution_count": null,
      "outputs": []
    }
  ]
}
